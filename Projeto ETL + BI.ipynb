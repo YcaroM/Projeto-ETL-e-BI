{
 "cells": [
  {
   "cell_type": "markdown",
   "metadata": {},
   "source": [
    "# PROJETO ETL + BI - Análise do desempenho em Ciências da Natureza dos alunos do Ceará no ENEM 2022\n",
    "\n",
    "## Primeira parte: EXTRAÇÃO DE DADOS:"
   ]
  },
  {
   "cell_type": "code",
   "execution_count": 4,
   "metadata": {},
   "outputs": [
    {
     "name": "stdout",
     "output_type": "stream",
     "text": [
      "Requirement already satisfied: dask in c:\\users\\ycaro\\appdata\\local\\programs\\python\\python312\\lib\\site-packages (2024.1.1)\n",
      "Requirement already satisfied: click>=8.1 in c:\\users\\ycaro\\appdata\\local\\programs\\python\\python312\\lib\\site-packages (from dask) (8.1.7)\n",
      "Requirement already satisfied: cloudpickle>=1.5.0 in c:\\users\\ycaro\\appdata\\local\\programs\\python\\python312\\lib\\site-packages (from dask) (3.0.0)\n",
      "Requirement already satisfied: fsspec>=2021.09.0 in c:\\users\\ycaro\\appdata\\local\\programs\\python\\python312\\lib\\site-packages (from dask) (2024.2.0)\n",
      "Requirement already satisfied: packaging>=20.0 in c:\\users\\ycaro\\appdata\\roaming\\python\\python312\\site-packages (from dask) (23.2)\n",
      "Requirement already satisfied: partd>=1.2.0 in c:\\users\\ycaro\\appdata\\local\\programs\\python\\python312\\lib\\site-packages (from dask) (1.4.1)\n",
      "Requirement already satisfied: pyyaml>=5.3.1 in c:\\users\\ycaro\\appdata\\local\\programs\\python\\python312\\lib\\site-packages (from dask) (6.0.1)\n",
      "Requirement already satisfied: toolz>=0.10.0 in c:\\users\\ycaro\\appdata\\local\\programs\\python\\python312\\lib\\site-packages (from dask) (0.12.1)\n",
      "Requirement already satisfied: importlib-metadata>=4.13.0 in c:\\users\\ycaro\\appdata\\local\\programs\\python\\python312\\lib\\site-packages (from dask) (7.0.1)\n",
      "Requirement already satisfied: colorama in c:\\users\\ycaro\\appdata\\roaming\\python\\python312\\site-packages (from click>=8.1->dask) (0.4.6)\n",
      "Requirement already satisfied: zipp>=0.5 in c:\\users\\ycaro\\appdata\\local\\programs\\python\\python312\\lib\\site-packages (from importlib-metadata>=4.13.0->dask) (3.17.0)\n",
      "Requirement already satisfied: locket in c:\\users\\ycaro\\appdata\\local\\programs\\python\\python312\\lib\\site-packages (from partd>=1.2.0->dask) (1.0.0)\n",
      "Note: you may need to restart the kernel to use updated packages.\n"
     ]
    },
    {
     "name": "stderr",
     "output_type": "stream",
     "text": [
      "\n",
      "[notice] A new release of pip is available: 23.2.1 -> 24.0\n",
      "[notice] To update, run: python.exe -m pip install --upgrade pip\n"
     ]
    },
    {
     "name": "stdout",
     "output_type": "stream",
     "text": [
      "Requirement already satisfied: pandas in c:\\users\\ycaro\\appdata\\local\\programs\\python\\python312\\lib\\site-packages (2.2.0)\n",
      "Requirement already satisfied: numpy<2,>=1.26.0 in c:\\users\\ycaro\\appdata\\local\\programs\\python\\python312\\lib\\site-packages (from pandas) (1.26.4)\n",
      "Requirement already satisfied: python-dateutil>=2.8.2 in c:\\users\\ycaro\\appdata\\roaming\\python\\python312\\site-packages (from pandas) (2.8.2)\n",
      "Requirement already satisfied: pytz>=2020.1 in c:\\users\\ycaro\\appdata\\local\\programs\\python\\python312\\lib\\site-packages (from pandas) (2024.1)\n",
      "Requirement already satisfied: tzdata>=2022.7 in c:\\users\\ycaro\\appdata\\local\\programs\\python\\python312\\lib\\site-packages (from pandas) (2023.4)\n",
      "Requirement already satisfied: six>=1.5 in c:\\users\\ycaro\\appdata\\roaming\\python\\python312\\site-packages (from python-dateutil>=2.8.2->pandas) (1.16.0)\n",
      "Note: you may need to restart the kernel to use updated packages.\n"
     ]
    },
    {
     "name": "stderr",
     "output_type": "stream",
     "text": [
      "\n",
      "[notice] A new release of pip is available: 23.2.1 -> 24.0\n",
      "[notice] To update, run: python.exe -m pip install --upgrade pip\n"
     ]
    },
    {
     "name": "stdout",
     "output_type": "stream",
     "text": [
      "Collecting requestsNote: you may need to restart the kernel to use updated packages.\n"
     ]
    },
    {
     "name": "stderr",
     "output_type": "stream",
     "text": [
      "  WARNING: The script normalizer.exe is installed in 'c:\\Users\\ycaro\\AppData\\Local\\Programs\\Python\\Python312\\Scripts' which is not on PATH.\n",
      "  Consider adding this directory to PATH or, if you prefer to suppress this warning, use --no-warn-script-location.\n",
      "\n",
      "[notice] A new release of pip is available: 23.2.1 -> 24.0\n",
      "[notice] To update, run: python.exe -m pip install --upgrade pip\n"
     ]
    },
    {
     "name": "stdout",
     "output_type": "stream",
     "text": [
      "\n",
      "  Obtaining dependency information for requests from https://files.pythonhosted.org/packages/70/8e/0e2d847013cb52cd35b38c009bb167a1a26b2ce6cd6965bf26b47bc0bf44/requests-2.31.0-py3-none-any.whl.metadata\n",
      "  Downloading requests-2.31.0-py3-none-any.whl.metadata (4.6 kB)\n",
      "Collecting charset-normalizer<4,>=2 (from requests)\n",
      "  Obtaining dependency information for charset-normalizer<4,>=2 from https://files.pythonhosted.org/packages/b6/7c/8debebb4f90174074b827c63242c23851bdf00a532489fba57fef3416e40/charset_normalizer-3.3.2-cp312-cp312-win_amd64.whl.metadata\n",
      "  Downloading charset_normalizer-3.3.2-cp312-cp312-win_amd64.whl.metadata (34 kB)\n",
      "Collecting idna<4,>=2.5 (from requests)\n",
      "  Obtaining dependency information for idna<4,>=2.5 from https://files.pythonhosted.org/packages/c2/e7/a82b05cf63a603df6e68d59ae6a68bf5064484a0718ea5033660af4b54a9/idna-3.6-py3-none-any.whl.metadata\n",
      "  Downloading idna-3.6-py3-none-any.whl.metadata (9.9 kB)\n",
      "Collecting urllib3<3,>=1.21.1 (from requests)\n",
      "  Obtaining dependency information for urllib3<3,>=1.21.1 from https://files.pythonhosted.org/packages/88/75/311454fd3317aefe18415f04568edc20218453b709c63c58b9292c71be17/urllib3-2.2.0-py3-none-any.whl.metadata\n",
      "  Downloading urllib3-2.2.0-py3-none-any.whl.metadata (6.4 kB)\n",
      "Collecting certifi>=2017.4.17 (from requests)\n",
      "  Obtaining dependency information for certifi>=2017.4.17 from https://files.pythonhosted.org/packages/ba/06/a07f096c664aeb9f01624f858c3add0a4e913d6c96257acb4fce61e7de14/certifi-2024.2.2-py3-none-any.whl.metadata\n",
      "  Downloading certifi-2024.2.2-py3-none-any.whl.metadata (2.2 kB)\n",
      "Downloading requests-2.31.0-py3-none-any.whl (62 kB)\n",
      "   ---------------------------------------- 0.0/62.6 kB ? eta -:--:--\n",
      "   ---------------------------------------- 62.6/62.6 kB 1.7 MB/s eta 0:00:00\n",
      "Downloading certifi-2024.2.2-py3-none-any.whl (163 kB)\n",
      "   ---------------------------------------- 0.0/163.8 kB ? eta -:--:--\n",
      "   --------------------------- ------------ 112.6/163.8 kB 6.4 MB/s eta 0:00:01\n",
      "   ---------------------------------------- 163.8/163.8 kB 2.4 MB/s eta 0:00:00\n",
      "Downloading charset_normalizer-3.3.2-cp312-cp312-win_amd64.whl (100 kB)\n",
      "   ---------------------------------------- 0.0/100.4 kB ? eta -:--:--\n",
      "   ---------------------------------------- 100.4/100.4 kB 6.0 MB/s eta 0:00:00\n",
      "Downloading idna-3.6-py3-none-any.whl (61 kB)\n",
      "   ---------------------------------------- 0.0/61.6 kB ? eta -:--:--\n",
      "   ---------------------------------------- 61.6/61.6 kB ? eta 0:00:00\n",
      "Downloading urllib3-2.2.0-py3-none-any.whl (120 kB)\n",
      "   ---------------------------------------- 0.0/120.9 kB ? eta -:--:--\n",
      "   ---------------------------------------- 120.9/120.9 kB ? eta 0:00:00\n",
      "Installing collected packages: urllib3, idna, charset-normalizer, certifi, requests\n",
      "Successfully installed certifi-2024.2.2 charset-normalizer-3.3.2 idna-3.6 requests-2.31.0 urllib3-2.2.0\n"
     ]
    }
   ],
   "source": [
    "#Instalação da bilbioteca dask para gerenciamento de datframe de grandes tamanhos. Será Utilizada ao invés do Pandas \n",
    "#devido ao tamanho do arquivo .csv\n",
    "%pip install dask\n",
    "%pip install --upgrade pandas\n",
    "%pip install requests"
   ]
  },
  {
   "cell_type": "markdown",
   "metadata": {},
   "source": [
    "### 1) - Importação de bibliotecas "
   ]
  },
  {
   "cell_type": "code",
   "execution_count": 1,
   "metadata": {},
   "outputs": [],
   "source": [
    "#importação de Bibliotecas\n",
    "import dask.dataframe as dd\n",
    "import pandas as pd\n",
    "import zipfile\n",
    "import requests\n",
    "import os\n",
    "from io import BytesIO"
   ]
  },
  {
   "cell_type": "markdown",
   "metadata": {},
   "source": [
    "### 2)- Criação de pasta e Download do Arquivo do Site do Inep"
   ]
  },
  {
   "cell_type": "code",
   "execution_count": 2,
   "metadata": {},
   "outputs": [],
   "source": [
    "#Criar estrutura de pastas para armazenamento do arquivo baixado\n",
    "os.makedirs('./enem2022', exist_ok=True)"
   ]
  },
  {
   "cell_type": "code",
   "execution_count": 7,
   "metadata": {},
   "outputs": [
    {
     "name": "stdout",
     "output_type": "stream",
     "text": [
      "Processamento Concluído.\n"
     ]
    }
   ],
   "source": [
    "#Com o arquivo ZIP já baixado do site do INEP, podemos extraí-lo na pasta que criamos:\n",
    "file = r'C:\\Users\\ycaro\\OneDrive\\Desktop\\Imersao Dados\\Projeto ETL + BI\\enem2022\\microdados_enem_2022.zip'\n",
    "myzip = zipfile.ZipFile(file).extractall('./enem2022')\n",
    "print('Processamento Concluído.')"
   ]
  },
  {
   "cell_type": "markdown",
   "metadata": {},
   "source": [
    "### 3)- Lendo os dados em lote (Arquivo Muito Grande) e criando um dataframe para o estado do Ceará"
   ]
  },
  {
   "cell_type": "code",
   "execution_count": 8,
   "metadata": {},
   "outputs": [],
   "source": [
    "# Cria dataframe com mais memória devido ao tamanho do arquivo\n",
    "enem = dd.read_csv(\n",
    "    './enem2022/DADOS/microdados_enem_2022.csv',\n",
    "    sep = ';' , \n",
    "    decimal=',' ,\n",
    "    dtype={'CO_MUNICIPIO_NASCIMENTO': 'float64',\n",
    "            'CO_UF_NASCIMENTO': 'float64',\n",
    "            'NU_IDADE': 'float64',\n",
    "            'NO_MUNICIPIO_ESC': 'object',\n",
    "            'SG_UF_ESC': 'object'},\n",
    "    encoding='latin1'\n",
    ")"
   ]
  },
  {
   "cell_type": "code",
   "execution_count": 10,
   "metadata": {},
   "outputs": [],
   "source": [
    "#Recriando o Dataframe Só para Ceará = Processo de Filtragem\n",
    "enem = enem.loc[enem.SG_UF_ESC == 'CE']"
   ]
  },
  {
   "cell_type": "markdown",
   "metadata": {},
   "source": [
    "## Segunda parte: Transformando os dados"
   ]
  },
  {
   "cell_type": "code",
   "execution_count": 12,
   "metadata": {},
   "outputs": [],
   "source": [
    "#Recriando o Dataframe só com as colunas necessárias\n",
    "enem_ce = enem[['NU_INSCRICAO',         \n",
    "                'SG_UF_ESC',     \n",
    "                'TP_SEXO',\n",
    "                'TP_COR_RACA',\n",
    "                'TP_ESCOLA',\n",
    "                'TP_ENSINO',\n",
    "                'NU_NOTA_CN',\n",
    "                'NU_NOTA_MT',\n",
    "                'Q001',\n",
    "                'Q002',\n",
    "                'Q004',\n",
    "                'Q005',\n",
    "                'Q006']].compute()"
   ]
  },
  {
   "cell_type": "code",
   "execution_count": 13,
   "metadata": {},
   "outputs": [
    {
     "data": {
      "text/plain": [
       "NU_INSCRICAO        0\n",
       "SG_UF_ESC           0\n",
       "TP_SEXO             0\n",
       "TP_COR_RACA         0\n",
       "TP_ESCOLA           0\n",
       "TP_ENSINO        3152\n",
       "NU_NOTA_CN      31135\n",
       "NU_NOTA_MT      31135\n",
       "Q001                0\n",
       "Q002                0\n",
       "Q004                0\n",
       "Q005                0\n",
       "Q006                0\n",
       "dtype: int64"
      ]
     },
     "execution_count": 13,
     "metadata": {},
     "output_type": "execute_result"
    }
   ],
   "source": [
    "#Analisando Quantidade de Nulos no Dataframe\n",
    "enem_ce.isnull().sum()"
   ]
  },
  {
   "cell_type": "code",
   "execution_count": 14,
   "metadata": {},
   "outputs": [],
   "source": [
    "#Cria backuo do DataFrame\n",
    "Enem_bkp = enem_ce"
   ]
  },
  {
   "cell_type": "code",
   "execution_count": 15,
   "metadata": {},
   "outputs": [],
   "source": [
    "#Apagando as Linhas com Notas Zeradas - Excluindos Alunos Faltantes\n",
    "enem_ce = enem_ce.dropna(subset=['NU_NOTA_MT'])"
   ]
  },
  {
   "cell_type": "code",
   "execution_count": 16,
   "metadata": {},
   "outputs": [
    {
     "data": {
      "text/plain": [
       "71837"
      ]
     },
     "execution_count": 16,
     "metadata": {},
     "output_type": "execute_result"
    }
   ],
   "source": [
    "#Quantidade de Linhas\n",
    "enem_ce.shape[0]"
   ]
  },
  {
   "cell_type": "code",
   "execution_count": 17,
   "metadata": {},
   "outputs": [
    {
     "data": {
      "text/plain": [
       "NU_INSCRICAO              int64\n",
       "SG_UF_ESC       string[pyarrow]\n",
       "TP_SEXO         string[pyarrow]\n",
       "TP_COR_RACA               int64\n",
       "TP_ESCOLA                 int64\n",
       "TP_ENSINO               float64\n",
       "NU_NOTA_CN      string[pyarrow]\n",
       "NU_NOTA_MT      string[pyarrow]\n",
       "Q001            string[pyarrow]\n",
       "Q002            string[pyarrow]\n",
       "Q004            string[pyarrow]\n",
       "Q005                      int64\n",
       "Q006            string[pyarrow]\n",
       "dtype: object"
      ]
     },
     "execution_count": 17,
     "metadata": {},
     "output_type": "execute_result"
    }
   ],
   "source": [
    "#Verificando os Tipos de Dados do Dataframe\n",
    "enem_ce.dtypes"
   ]
  },
  {
   "cell_type": "code",
   "execution_count": 18,
   "metadata": {},
   "outputs": [
    {
     "name": "stderr",
     "output_type": "stream",
     "text": [
      "C:\\Users\\ycaro\\AppData\\Local\\Temp\\ipykernel_8796\\1672564464.py:2: SettingWithCopyWarning: \n",
      "A value is trying to be set on a copy of a slice from a DataFrame.\n",
      "Try using .loc[row_indexer,col_indexer] = value instead\n",
      "\n",
      "See the caveats in the documentation: https://pandas.pydata.org/pandas-docs/stable/user_guide/indexing.html#returning-a-view-versus-a-copy\n",
      "  enem_ce['NU_NOTA_CN'] = enem_ce['NU_NOTA_CN'].astype('float')\n",
      "C:\\Users\\ycaro\\AppData\\Local\\Temp\\ipykernel_8796\\1672564464.py:3: SettingWithCopyWarning: \n",
      "A value is trying to be set on a copy of a slice from a DataFrame.\n",
      "Try using .loc[row_indexer,col_indexer] = value instead\n",
      "\n",
      "See the caveats in the documentation: https://pandas.pydata.org/pandas-docs/stable/user_guide/indexing.html#returning-a-view-versus-a-copy\n",
      "  enem_ce['NU_NOTA_MT'] = enem_ce['NU_NOTA_MT'].astype('float')\n"
     ]
    }
   ],
   "source": [
    "#Atualizando Tipos de Dados de Colunas Importantes\n",
    "enem_ce['NU_NOTA_CN'] = enem_ce['NU_NOTA_CN'].astype('float')\n",
    "enem_ce['NU_NOTA_MT'] = enem_ce['NU_NOTA_MT'].astype('float')"
   ]
  },
  {
   "cell_type": "code",
   "execution_count": 20,
   "metadata": {},
   "outputs": [
    {
     "data": {
      "text/html": [
       "<div>\n",
       "<style scoped>\n",
       "    .dataframe tbody tr th:only-of-type {\n",
       "        vertical-align: middle;\n",
       "    }\n",
       "\n",
       "    .dataframe tbody tr th {\n",
       "        vertical-align: top;\n",
       "    }\n",
       "\n",
       "    .dataframe thead th {\n",
       "        text-align: right;\n",
       "    }\n",
       "</style>\n",
       "<table border=\"1\" class=\"dataframe\">\n",
       "  <thead>\n",
       "    <tr style=\"text-align: right;\">\n",
       "      <th></th>\n",
       "      <th>NU_INSCRICAO</th>\n",
       "      <th>TP_COR_RACA</th>\n",
       "      <th>TP_ESCOLA</th>\n",
       "      <th>TP_ENSINO</th>\n",
       "      <th>NU_NOTA_CN</th>\n",
       "      <th>NU_NOTA_MT</th>\n",
       "      <th>Q005</th>\n",
       "    </tr>\n",
       "  </thead>\n",
       "  <tbody>\n",
       "    <tr>\n",
       "      <th>count</th>\n",
       "      <td>7.183700e+04</td>\n",
       "      <td>71837.000000</td>\n",
       "      <td>71837.000000</td>\n",
       "      <td>71030.000000</td>\n",
       "      <td>71837.000000</td>\n",
       "      <td>71837.000000</td>\n",
       "      <td>71837.000000</td>\n",
       "    </tr>\n",
       "    <tr>\n",
       "      <th>mean</th>\n",
       "      <td>2.100563e+11</td>\n",
       "      <td>2.394268</td>\n",
       "      <td>2.095327</td>\n",
       "      <td>1.003111</td>\n",
       "      <td>474.308997</td>\n",
       "      <td>507.794323</td>\n",
       "      <td>4.015814</td>\n",
       "    </tr>\n",
       "    <tr>\n",
       "      <th>std</th>\n",
       "      <td>1.000584e+06</td>\n",
       "      <td>0.971131</td>\n",
       "      <td>0.293668</td>\n",
       "      <td>0.055693</td>\n",
       "      <td>64.816970</td>\n",
       "      <td>109.061420</td>\n",
       "      <td>1.279771</td>\n",
       "    </tr>\n",
       "    <tr>\n",
       "      <th>min</th>\n",
       "      <td>2.100545e+11</td>\n",
       "      <td>0.000000</td>\n",
       "      <td>2.000000</td>\n",
       "      <td>1.000000</td>\n",
       "      <td>0.000000</td>\n",
       "      <td>0.000000</td>\n",
       "      <td>1.000000</td>\n",
       "    </tr>\n",
       "    <tr>\n",
       "      <th>25%</th>\n",
       "      <td>2.100553e+11</td>\n",
       "      <td>1.000000</td>\n",
       "      <td>2.000000</td>\n",
       "      <td>1.000000</td>\n",
       "      <td>424.700000</td>\n",
       "      <td>421.500000</td>\n",
       "      <td>3.000000</td>\n",
       "    </tr>\n",
       "    <tr>\n",
       "      <th>50%</th>\n",
       "      <td>2.100563e+11</td>\n",
       "      <td>3.000000</td>\n",
       "      <td>2.000000</td>\n",
       "      <td>1.000000</td>\n",
       "      <td>463.000000</td>\n",
       "      <td>485.800000</td>\n",
       "      <td>4.000000</td>\n",
       "    </tr>\n",
       "    <tr>\n",
       "      <th>75%</th>\n",
       "      <td>2.100571e+11</td>\n",
       "      <td>3.000000</td>\n",
       "      <td>2.000000</td>\n",
       "      <td>1.000000</td>\n",
       "      <td>514.800000</td>\n",
       "      <td>579.200000</td>\n",
       "      <td>5.000000</td>\n",
       "    </tr>\n",
       "    <tr>\n",
       "      <th>max</th>\n",
       "      <td>2.100580e+11</td>\n",
       "      <td>5.000000</td>\n",
       "      <td>3.000000</td>\n",
       "      <td>2.000000</td>\n",
       "      <td>825.000000</td>\n",
       "      <td>975.700000</td>\n",
       "      <td>20.000000</td>\n",
       "    </tr>\n",
       "  </tbody>\n",
       "</table>\n",
       "</div>"
      ],
      "text/plain": [
       "       NU_INSCRICAO   TP_COR_RACA     TP_ESCOLA     TP_ENSINO    NU_NOTA_CN  \\\n",
       "count  7.183700e+04  71837.000000  71837.000000  71030.000000  71837.000000   \n",
       "mean   2.100563e+11      2.394268      2.095327      1.003111    474.308997   \n",
       "std    1.000584e+06      0.971131      0.293668      0.055693     64.816970   \n",
       "min    2.100545e+11      0.000000      2.000000      1.000000      0.000000   \n",
       "25%    2.100553e+11      1.000000      2.000000      1.000000    424.700000   \n",
       "50%    2.100563e+11      3.000000      2.000000      1.000000    463.000000   \n",
       "75%    2.100571e+11      3.000000      2.000000      1.000000    514.800000   \n",
       "max    2.100580e+11      5.000000      3.000000      2.000000    825.000000   \n",
       "\n",
       "         NU_NOTA_MT          Q005  \n",
       "count  71837.000000  71837.000000  \n",
       "mean     507.794323      4.015814  \n",
       "std      109.061420      1.279771  \n",
       "min        0.000000      1.000000  \n",
       "25%      421.500000      3.000000  \n",
       "50%      485.800000      4.000000  \n",
       "75%      579.200000      5.000000  \n",
       "max      975.700000     20.000000  "
      ]
     },
     "execution_count": 20,
     "metadata": {},
     "output_type": "execute_result"
    }
   ],
   "source": [
    "#Analise detalhada do Dataframe\n",
    "enem_ce.describe()"
   ]
  },
  {
   "cell_type": "markdown",
   "metadata": {},
   "source": [
    "### Retirando alguns Insights"
   ]
  },
  {
   "cell_type": "code",
   "execution_count": 21,
   "metadata": {},
   "outputs": [
    {
     "data": {
      "text/plain": [
       "TP_SEXO\n",
       "F    52.91\n",
       "M    47.09\n",
       "Name: count, dtype: double[pyarrow]"
      ]
     },
     "execution_count": 21,
     "metadata": {},
     "output_type": "execute_result"
    }
   ],
   "source": [
    "#Percentual de Participação por Sexo Declarado o Enem no Ceará\n",
    "round((enem_ce.TP_SEXO.value_counts() / enem_ce.shape[0] ) * 100,2)"
   ]
  },
  {
   "cell_type": "code",
   "execution_count": 22,
   "metadata": {},
   "outputs": [
    {
     "name": "stdout",
     "output_type": "stream",
     "text": [
      "Média Geral de Ciências da Natureza:  474.31\n"
     ]
    }
   ],
   "source": [
    "#Média geral de Ciências da Natureza no Ceará\n",
    "print('Média Geral de Ciências da Natureza: ', round(enem_ce['NU_NOTA_CN'].mean(),2))"
   ]
  },
  {
   "cell_type": "code",
   "execution_count": 23,
   "metadata": {},
   "outputs": [
    {
     "name": "stdout",
     "output_type": "stream",
     "text": [
      "Ciências da Natureza (Particular):  542.84\n"
     ]
    }
   ],
   "source": [
    "#Média geral de Ciências da Natureza nas Escolas Particulares \n",
    "print('Ciências da Natureza (Particular): ', round(enem_ce['NU_NOTA_CN'].loc[enem_ce.TP_ESCOLA == 3].mean(),2))"
   ]
  },
  {
   "cell_type": "code",
   "execution_count": 24,
   "metadata": {},
   "outputs": [
    {
     "name": "stdout",
     "output_type": "stream",
     "text": [
      "Ciências da Natureza (Pública):  467.09\n"
     ]
    }
   ],
   "source": [
    "#Média geral de Matemática dos alunos de Escola Pública \n",
    "print('Ciências da Natureza (Pública): ', round(enem_ce['NU_NOTA_CN'].loc[enem_ce.TP_ESCOLA == 2].mean(),2))"
   ]
  },
  {
   "cell_type": "code",
   "execution_count": 25,
   "metadata": {},
   "outputs": [
    {
     "name": "stdout",
     "output_type": "stream",
     "text": [
      "Ciências da Natureza (Não Declarados):  461.38\n",
      "Ciências da Natureza (Branco)        :  498.81\n",
      "Ciências da Natureza (Preto)         :  467.11\n",
      "Ciências da Natureza (Pardo)         :  466.86\n",
      "Ciências da Natureza (Amarelo)       :  472.43\n",
      "Ciências da Natureza (Indígena)      :  456.8\n"
     ]
    }
   ],
   "source": [
    "#Comparação de Médias de Matemática por raça declarada\n",
    "print('Ciências da Natureza (Não Declarados): ', round(enem_ce['NU_NOTA_CN'].loc[enem_ce.TP_COR_RACA == 0].mean(),2))\n",
    "print('Ciências da Natureza (Branco)        : ', round(enem_ce['NU_NOTA_CN'].loc[enem_ce.TP_COR_RACA == 1].mean(),2))\n",
    "print('Ciências da Natureza (Preto)         : ', round(enem_ce['NU_NOTA_CN'].loc[enem_ce.TP_COR_RACA == 2].mean(),2))\n",
    "print('Ciências da Natureza (Pardo)         : ', round(enem_ce['NU_NOTA_CN'].loc[enem_ce.TP_COR_RACA == 3].mean(),2))\n",
    "print('Ciências da Natureza (Amarelo)       : ', round(enem_ce['NU_NOTA_CN'].loc[enem_ce.TP_COR_RACA == 4].mean(),2))\n",
    "print('Ciências da Natureza (Indígena)      : ', round(enem_ce['NU_NOTA_CN'].loc[enem_ce.TP_COR_RACA == 5].mean(),2))"
   ]
  },
  {
   "cell_type": "code",
   "execution_count": 26,
   "metadata": {},
   "outputs": [
    {
     "name": "stdout",
     "output_type": "stream",
     "text": [
      "Média Ciências da Natureza (Sem Renda)                      :  465.67\n",
      "Média Ciências da Natureza (Até R$ 998,00)                  :  483.73\n",
      "Média Ciências da Natureza (De R$ 2.495,01 até R$ 2.994,00) :  579.39\n",
      "Média Ciências da Natureza (De R$ 2.994,01 até R$ 3.992,00) :  594.68\n",
      "Média Ciências da Natureza (De R$ 5.988,01 até R$ 6.986,00) :  634.73\n",
      "Média Ciências da Natureza (Mais de R$ 19.960,00)           :  697.87\n"
     ]
    }
   ],
   "source": [
    "#Comparação de Médias de Matemática por Renda declarada\n",
    "print('Média Ciências da Natureza (Sem Renda)                      : ', round(enem_ce['NU_NOTA_MT'].loc[enem_ce.Q006 == 'A'].mean(),2))\n",
    "print('Média Ciências da Natureza (Até R$ 998,00)                  : ', round(enem_ce['NU_NOTA_MT'].loc[enem_ce.Q006 == 'B'].mean(),2))\n",
    "print('Média Ciências da Natureza (De R$ 2.495,01 até R$ 2.994,00) : ', round(enem_ce['NU_NOTA_MT'].loc[enem_ce.Q006 == 'F'].mean(),2))\n",
    "print('Média Ciências da Natureza (De R$ 2.994,01 até R$ 3.992,00) : ', round(enem_ce['NU_NOTA_MT'].loc[enem_ce.Q006 == 'G'].mean(),2))  \n",
    "print('Média Ciências da Natureza (De R$ 5.988,01 até R$ 6.986,00) : ', round(enem_ce['NU_NOTA_MT'].loc[enem_ce.Q006 == 'J'].mean(),2))\n",
    "print('Média Ciências da Natureza (Mais de R$ 19.960,00)           : ', round(enem_ce['NU_NOTA_MT'].loc[enem_ce.Q006 == 'Q'].mean(),2))"
   ]
  },
  {
   "cell_type": "markdown",
   "metadata": {},
   "source": [
    "## Terceira parte: Carga dos dados\n",
    "### Realizando Carga de dados no SQlite "
   ]
  },
  {
   "cell_type": "code",
   "execution_count": 27,
   "metadata": {},
   "outputs": [],
   "source": [
    "#Importando biblioteca SQLite\n",
    "import sqlite3 as lite"
   ]
  },
  {
   "cell_type": "code",
   "execution_count": 28,
   "metadata": {},
   "outputs": [],
   "source": [
    "#Cria/Conceta Banco de Dados ENEM_2022.db e o cursor de navegação interna\n",
    "con = lite.connect(\"ENEM_2022.db\")\n",
    "cur = con.cursor()"
   ]
  },
  {
   "cell_type": "code",
   "execution_count": 29,
   "metadata": {},
   "outputs": [],
   "source": [
    "# Deletando Tabela com mesmo nome caso exista\n",
    "cur.execute(\"DROP TABLE IF EXISTS Enem22\")\n",
    "con.commit()"
   ]
  },
  {
   "cell_type": "code",
   "execution_count": 31,
   "metadata": {},
   "outputs": [],
   "source": [
    "# criando a tabela (Enem22)\n",
    "cur.execute(\"\"\"\n",
    "CREATE TABLE IF NOT EXISTS Enem22 (\n",
    "        NU_INSCRICAO INT,\n",
    "        SG_UF_ESC VARCHAR(2),\n",
    "        TP_SEXO VARCHAR(1),\n",
    "        TP_COR_RACA INT,\n",
    "        TP_ESCOLA INT,\n",
    "        TP_ENSINO INT,\n",
    "        NU_NOTA_CN FLOAT,\n",
    "        NU_NOTA_MT FLOAT,\n",
    "        Q001 VARCHAR(1),\n",
    "        Q002 VARCHAR(1),\n",
    "        Q004 VARCHAR(1),\n",
    "        Q005 INT,\n",
    "        Q006 VARCHAR(1) );\n",
    "\"\"\")\n",
    "con.commit()"
   ]
  },
  {
   "cell_type": "code",
   "execution_count": 32,
   "metadata": {},
   "outputs": [],
   "source": [
    "#Carregando Dataframe Pandas na Tabela SQLite\n",
    "cur.executemany(\"INSERT INTO Enem22 VALUES (?,?,?,?,?,?,?,?,?,?,?,?,?);\", enem_ce.values.tolist())\n",
    "con.commit()"
   ]
  },
  {
   "cell_type": "code",
   "execution_count": 33,
   "metadata": {},
   "outputs": [
    {
     "name": "stdout",
     "output_type": "stream",
     "text": [
      "Número de Registros: 71837\n"
     ]
    }
   ],
   "source": [
    "#Lendo os Dados do Banco de Dados\n",
    "cur.execute(\"SELECT count(*)  FROM Enem22;\")\n",
    "for linha in cur.fetchall():\n",
    "    print(f'Número de Registros: {linha[0]}')"
   ]
  },
  {
   "cell_type": "code",
   "execution_count": 34,
   "metadata": {},
   "outputs": [
    {
     "name": "stdout",
     "output_type": "stream",
     "text": [
      "Nota Geral de Ciências da Natureza: 474.31\n"
     ]
    }
   ],
   "source": [
    "# Média Geral de Ciências da Natureza\n",
    "cur.execute(\"SELECT avg(NU_NOTA_CN)  FROM Enem22;\")\n",
    "for linha in cur.fetchall():\n",
    "    print(f'Nota Geral de Ciências da Natureza: {round(linha[0],2)}')"
   ]
  },
  {
   "cell_type": "code",
   "execution_count": 35,
   "metadata": {},
   "outputs": [],
   "source": [
    "#Fecha a Conexão com o Banco de Dados\n",
    "con.close()"
   ]
  }
 ],
 "metadata": {
  "interpreter": {
   "hash": "99895b1fb5777b62bbca485c28947babc49174d82e5a9d257e359cdc2b435eee"
  },
  "kernelspec": {
   "display_name": "Python 3.9.4 64-bit",
   "name": "python3"
  },
  "language_info": {
   "codemirror_mode": {
    "name": "ipython",
    "version": 3
   },
   "file_extension": ".py",
   "mimetype": "text/x-python",
   "name": "python",
   "nbconvert_exporter": "python",
   "pygments_lexer": "ipython3",
   "version": "3.12.1"
  },
  "orig_nbformat": 4
 },
 "nbformat": 4,
 "nbformat_minor": 2
}
